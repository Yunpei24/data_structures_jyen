{
 "cells": [
  {
   "cell_type": "markdown",
   "metadata": {},
   "source": [
    "# 📚 Linked List Demonstration Notebook\n",
    "\n",
    "This notebook provides guided examples to test all LinkedList methods."
   ]
  },
  {
   "cell_type": "markdown",
   "metadata": {},
   "source": [
    "![](https://media.geeksforgeeks.org/wp-content/cdn-uploads/gq/2013/03/Linkedlist.png)"
   ]
  },
  {
   "cell_type": "code",
   "execution_count": null,
   "metadata": {},
   "outputs": [],
   "source": [
    "# This is installation command for this package. Decomment it if you want to install it.\n",
    "#!pip install jyen-data-structure"
   ]
  },
  {
   "cell_type": "code",
   "execution_count": 1,
   "metadata": {},
   "outputs": [],
   "source": [
    "import sys\n",
    "import os\n",
    "\n",
    "sys.path.append(os.path.abspath(\"..\"))\n",
    "from data_structures_jyen.linked_list import LinkedList"
   ]
  },
  {
   "cell_type": "markdown",
   "metadata": {},
   "source": [
    "## 1. Setup & Initialization\n",
    "Import the class and create sample list"
   ]
  },
  {
   "cell_type": "code",
   "execution_count": 2,
   "metadata": {},
   "outputs": [
    {
     "name": "stdout",
     "output_type": "stream",
     "text": [
      "Initial list state:\n",
      "10 -> 30 -> 50 -> 40 -> None\n"
     ]
    }
   ],
   "source": [
    "# Create initial list\n",
    "ll = LinkedList()\n",
    "ll.insert_at_end(30)\n",
    "ll.insert_at_beginning(10)\n",
    "ll.insert_at_end(50)\n",
    "ll.insert_after(40, 2)\n",
    "\n",
    "print(\"Initial list state:\")\n",
    "ll.display()"
   ]
  },
  {
   "cell_type": "markdown",
   "metadata": {},
   "source": [
    "# 2. Insertion Methods \n",
    "### 2.1 Beginning Insertion\n",
    "```python\n",
    " insert_at_beginning(item)\n",
    "```"
   ]
  },
  {
   "cell_type": "code",
   "execution_count": 3,
   "metadata": {},
   "outputs": [
    {
     "name": "stdout",
     "output_type": "stream",
     "text": [
      "\n",
      "Current list:\n",
      "10 -> 30 -> 50 -> 40 -> None\n",
      "\n",
      "After inserting 5 at beginning:\n",
      "5 -> 10 -> 30 -> 50 -> 40 -> None\n"
     ]
    }
   ],
   "source": [
    "print(\"\\nCurrent list:\")\n",
    "ll.display()\n",
    "\n",
    "ll.insert_at_beginning(5)\n",
    "print(\"\\nAfter inserting 5 at beginning:\")\n",
    "ll.display()"
   ]
  },
  {
   "cell_type": "markdown",
   "metadata": {},
   "source": [
    "### 2.2 End Insertion\n",
    "```python\n",
    " insert_at_end(item)\n",
    "```"
   ]
  },
  {
   "cell_type": "code",
   "execution_count": 4,
   "metadata": {},
   "outputs": [
    {
     "name": "stdout",
     "output_type": "stream",
     "text": [
      "\n",
      "Current list:\n",
      "5 -> 10 -> 30 -> 50 -> 40 -> None\n",
      "\n",
      "After inserting 60 at end:\n",
      "5 -> 10 -> 30 -> 50 -> 40 -> 60 -> None\n"
     ]
    }
   ],
   "source": [
    "print(\"\\nCurrent list:\")\n",
    "ll.display()\n",
    "\n",
    "ll.insert_at_end(60)\n",
    "print(\"\\nAfter inserting 60 at end:\")\n",
    "ll.display()"
   ]
  },
  {
   "cell_type": "markdown",
   "metadata": {},
   "source": [
    "### 2.3 Positional Insertion\n",
    "```python\n",
    "insert_after(item, index)\n",
    "```"
   ]
  },
  {
   "cell_type": "code",
   "execution_count": 5,
   "metadata": {},
   "outputs": [
    {
     "name": "stdout",
     "output_type": "stream",
     "text": [
      "\n",
      "Current list:\n",
      "5 -> 10 -> 30 -> 50 -> 40 -> 60 -> None\n",
      "\n",
      "After inserting 55 after index 4:\n",
      "5 -> 10 -> 30 -> 50 -> 40 -> 55 -> 60 -> None\n",
      "\n",
      "Error: Invalid index for insertion\n"
     ]
    }
   ],
   "source": [
    "try:\n",
    "    print(\"\\nCurrent list:\")\n",
    "    ll.display()\n",
    "    \n",
    "    ll.insert_after(55, 4)  # Valid index\n",
    "    print(\"\\nAfter inserting 55 after index 4:\")\n",
    "    ll.display()\n",
    "    \n",
    "    ll.insert_after(100, 10)  # Invalid index\n",
    "except IndexError as e:\n",
    "    print(f\"\\nError: {e}\")"
   ]
  },
  {
   "cell_type": "markdown",
   "metadata": {},
   "source": [
    "## 3. Access & Search Methods\n",
    "\n",
    "### 3.1 Index Access\n",
    "```python\n",
    "access(index)\n",
    "```"
   ]
  },
  {
   "cell_type": "code",
   "execution_count": 8,
   "metadata": {},
   "outputs": [
    {
     "name": "stdout",
     "output_type": "stream",
     "text": [
      "\n",
      "Item at index 3: 50\n",
      "Error: Index out of range\n"
     ]
    }
   ],
   "source": [
    "try:\n",
    "    print(f\"\\nItem at index 3: {ll.access(3)}\")\n",
    "    print(f\"Item at index 7: {ll.access(7)}\")  # Invalid\n",
    "except IndexError as e:\n",
    "    print(f\"Error: {e}\")"
   ]
  },
  {
   "cell_type": "markdown",
   "metadata": {},
   "source": [
    "### 3.2 Value Search\n",
    "```python\n",
    "search(item)\n",
    "```\n"
   ]
  },
  {
   "cell_type": "code",
   "execution_count": 7,
   "metadata": {},
   "outputs": [
    {
     "name": "stdout",
     "output_type": "stream",
     "text": [
      "\n",
      "Search for 40: True\n",
      "Search for 99: False\n"
     ]
    }
   ],
   "source": [
    "print(f\"\\nSearch for 40: {ll.search(40)}\")\n",
    "print(f\"Search for 99: {ll.search(99)}\")"
   ]
  },
  {
   "cell_type": "markdown",
   "metadata": {},
   "source": [
    "## 4. Deletion Methods\n",
    "\n",
    "### 4.1 Index Deletion\n",
    "```python\n",
    "delete_at_index(index)\n",
    "```"
   ]
  },
  {
   "cell_type": "code",
   "execution_count": 9,
   "metadata": {},
   "outputs": [
    {
     "name": "stdout",
     "output_type": "stream",
     "text": [
      "\n",
      "Before deletion:\n",
      "5 -> 10 -> 30 -> 50 -> 40 -> 55 -> 60 -> None\n",
      "\n",
      "After deleting index 2:\n",
      "5 -> 10 -> 50 -> 40 -> 55 -> 60 -> None\n"
     ]
    }
   ],
   "source": [
    "print(\"\\nBefore deletion:\")\n",
    "ll.display()\n",
    "\n",
    "ll.delete_at_index(2)\n",
    "print(\"\\nAfter deleting index 2:\")\n",
    "ll.display()"
   ]
  },
  {
   "cell_type": "markdown",
   "metadata": {},
   "source": [
    "### 4.2 Value Deletion\n",
    "```python\n",
    "delete_item(item)\n",
    "```"
   ]
  },
  {
   "cell_type": "code",
   "execution_count": 10,
   "metadata": {},
   "outputs": [
    {
     "name": "stdout",
     "output_type": "stream",
     "text": [
      "\n",
      "Before deletion:\n",
      "5 -> 10 -> 50 -> 40 -> 55 -> 60 -> None\n",
      "\n",
      "Deletion successful? True\n",
      "After deletion:\n",
      "5 -> 10 -> 50 -> 40 -> 55 -> None\n"
     ]
    }
   ],
   "source": [
    "print(\"\\nBefore deletion:\")\n",
    "ll.display()\n",
    "\n",
    "result = ll.delete_item(60)\n",
    "print(f\"\\nDeletion successful? {result}\")\n",
    "print(\"After deletion:\")\n",
    "ll.display()"
   ]
  },
  {
   "cell_type": "markdown",
   "metadata": {},
   "source": [
    "## 5. Advanced Operations\n",
    "# \n",
    "### 5.1 List Reversal\n",
    "```python\n",
    " reverse()\n",
    "```"
   ]
  },
  {
   "cell_type": "code",
   "execution_count": 11,
   "metadata": {},
   "outputs": [
    {
     "name": "stdout",
     "output_type": "stream",
     "text": [
      "\n",
      "Original list:\n",
      "5 -> 10 -> 50 -> 40 -> 55 -> None\n",
      "\n",
      "Reversed list:\n",
      "55 -> 40 -> 50 -> 10 -> 5 -> None\n"
     ]
    }
   ],
   "source": [
    "print(\"\\nOriginal list:\")\n",
    "ll.display()\n",
    "\n",
    "ll.reverse()\n",
    "print(\"\\nReversed list:\")\n",
    "ll.display()"
   ]
  },
  {
   "cell_type": "markdown",
   "metadata": {},
   "source": [
    "### 5.2 List Concatenation\n",
    "```python\n",
    "concatenate(other_list)\n",
    "```"
   ]
  },
  {
   "cell_type": "code",
   "execution_count": 12,
   "metadata": {},
   "outputs": [
    {
     "name": "stdout",
     "output_type": "stream",
     "text": [
      "\n",
      "List A:\n",
      "A -> B -> None\n",
      "List B:\n",
      "C -> D -> None\n",
      "\n",
      "Concatenated result:\n",
      "A -> B -> C -> D -> None\n"
     ]
    }
   ],
   "source": [
    "list_a = LinkedList()\n",
    "list_a.insert_at_end(\"A\")\n",
    "list_a.insert_at_end(\"B\")\n",
    "\n",
    "list_b = LinkedList()\n",
    "list_b.insert_at_end(\"C\")\n",
    "list_b.insert_at_end(\"D\")\n",
    "\n",
    "print(\"\\nList A:\")\n",
    "list_a.display()\n",
    "print(\"List B:\")\n",
    "list_b.display()\n",
    "\n",
    "list_a.concatenate(list_b)\n",
    "print(\"\\nConcatenated result:\")\n",
    "list_a.display()"
   ]
  },
  {
   "cell_type": "markdown",
   "metadata": {},
   "source": [
    "### 5.3 List Sorting\n",
    "```python\n",
    "sort()\n",
    "```"
   ]
  },
  {
   "cell_type": "code",
   "execution_count": 13,
   "metadata": {},
   "outputs": [
    {
     "name": "stdout",
     "output_type": "stream",
     "text": [
      "\n",
      "Unsorted list:\n",
      "10 -> 35 -> 25 -> None\n",
      "\n",
      "Sorted list:\n",
      "10 -> 25 -> 35 -> None\n"
     ]
    }
   ],
   "source": [
    "mixed_list = LinkedList()\n",
    "mixed_list.insert_at_end(35)\n",
    "mixed_list.insert_at_beginning(10)\n",
    "mixed_list.insert_at_end(25)\n",
    "\n",
    "print(\"\\nUnsorted list:\")\n",
    "mixed_list.display()\n",
    "\n",
    "mixed_list.sort()\n",
    "print(\"\\nSorted list:\")\n",
    "mixed_list.display()"
   ]
  },
  {
   "cell_type": "markdown",
   "metadata": {},
   "source": [
    "## 6. Error Handling\n",
    "# \n",
    "### 6.1 Empty List Operations\n",
    "```python\n",
    " delete_at_index(0)\n",
    "```"
   ]
  },
  {
   "cell_type": "code",
   "execution_count": 14,
   "metadata": {},
   "outputs": [
    {
     "name": "stdout",
     "output_type": "stream",
     "text": [
      "\n",
      "Expected error: Invalid index for deletion\n"
     ]
    }
   ],
   "source": [
    "empty_list = LinkedList()\n",
    "\n",
    "try:\n",
    "    empty_list.delete_at_index(0)\n",
    "except IndexError as e:\n",
    "    print(f\"\\nExpected error: {e}\")"
   ]
  },
  {
   "cell_type": "markdown",
   "metadata": {},
   "source": [
    "### 6.2 Invalid Access\n",
    "```python\n",
    "access(invalid_index)\n",
    "```"
   ]
  },
  {
   "cell_type": "code",
   "execution_count": 15,
   "metadata": {},
   "outputs": [
    {
     "name": "stdout",
     "output_type": "stream",
     "text": [
      "\n",
      "Attempting to access index 5:\n",
      "Error caught: Index out of range\n"
     ]
    }
   ],
   "source": [
    "try:\n",
    "    print(f\"\\nAttempting to access index 5:\")\n",
    "    print(ll.access(5))\n",
    "except IndexError as e:\n",
    "    print(f\"Error caught: {e}\")\n"
   ]
  },
  {
   "cell_type": "markdown",
   "metadata": {},
   "source": [
    "## 7. Performance Testing\n",
    "\n",
    "### 7.1 Large Insertions\n",
    "```python\n",
    "insert_at_end()\n",
    "```"
   ]
  },
  {
   "cell_type": "code",
   "execution_count": 16,
   "metadata": {},
   "outputs": [
    {
     "name": "stdout",
     "output_type": "stream",
     "text": [
      "Created list with 3000 nodes\n",
      "CPU times: user 62.8 ms, sys: 2.11 ms, total: 64.9 ms\n",
      "Wall time: 64.8 ms\n"
     ]
    }
   ],
   "source": [
    "%%time\n",
    "massive_list = LinkedList()\n",
    "for i in range(3000):\n",
    "    massive_list.insert_at_end(i)\n",
    "    \n",
    "print(f\"Created list with {massive_list.get_length()} nodes\")\n"
   ]
  },
  {
   "cell_type": "markdown",
   "metadata": {},
   "source": [
    "### 7.2 Sorting Performance\n",
    "```python\n",
    "sort()\n",
    "```"
   ]
  },
  {
   "cell_type": "code",
   "execution_count": 17,
   "metadata": {},
   "outputs": [
    {
     "name": "stdout",
     "output_type": "stream",
     "text": [
      "Sorting large list...\n",
      "Sorting completed\n",
      "CPU times: user 368 μs, sys: 116 μs, total: 484 μs\n",
      "Wall time: 493 μs\n"
     ]
    }
   ],
   "source": [
    "%%time\n",
    "print(\"Sorting large list...\")\n",
    "massive_list.sort()\n",
    "print(\"Sorting completed\")"
   ]
  },
  {
   "cell_type": "markdown",
   "metadata": {},
   "source": [
    "## 8. Final Verification\n",
    " \n",
    " | Method               | Test Coverage          | Status |\n",
    " |----------------------|------------------------|--------|\n",
    " | `insert_at_beginning`| Head insertion         | ✅     |\n",
    " | `insert_at_end`      | Tail insertion         | ✅     |\n",
    " | `insert_after`       | Mid-list insertion     | ✅     |\n",
    " | `delete_at_index`    | Position removal       | ✅     |\n",
    " | `delete_item`        | Value removal          | ✅     |\n",
    " | `access`             | Index retrieval        | ✅     |\n",
    " | `search`             | Value existence check  | ✅     |\n",
    " | `reverse`            | List reversal          | ✅     |\n",
    " | `concatenate`        | List merging           | ✅     |\n",
    " | `sort`               | Value ordering         | ✅     |\n"
   ]
  }
 ],
 "metadata": {
  "kernelspec": {
   "display_name": "my_env",
   "language": "python",
   "name": "python3"
  },
  "language_info": {
   "codemirror_mode": {
    "name": "ipython",
    "version": 3
   },
   "file_extension": ".py",
   "mimetype": "text/x-python",
   "name": "python",
   "nbconvert_exporter": "python",
   "pygments_lexer": "ipython3",
   "version": "3.13.2"
  }
 },
 "nbformat": 4,
 "nbformat_minor": 2
}
