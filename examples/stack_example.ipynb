{
 "cells": [
  {
   "cell_type": "markdown",
   "metadata": {},
   "source": [
    "# 📚 Stack Implementation Notebook\n",
    "\n",
    "This notebook demonstrates the usage and testing of the `Stack` class with complete method documentation and error handling."
   ]
  },
  {
   "cell_type": "markdown",
   "metadata": {},
   "source": [
    "![](https://media.geeksforgeeks.org/wp-content/uploads/20220714004311/Stack-660x566.png)"
   ]
  },
  {
   "cell_type": "code",
   "execution_count": 6,
   "metadata": {},
   "outputs": [],
   "source": [
    "import sys\n",
    "import os\n",
    "\n",
    "sys.path.append(os.path.abspath(\"..\"))\n",
    "from data_structures_jyen.stack import Stack"
   ]
  },
  {
   "cell_type": "markdown",
   "metadata": {},
   "source": [
    "## 1. Stack Initialization\n",
    "Let's create different stack instances:"
   ]
  },
  {
   "cell_type": "code",
   "execution_count": 7,
   "metadata": {},
   "outputs": [
    {
     "name": "stdout",
     "output_type": "stream",
     "text": [
      "[]\n",
      "\n",
      "Initialized stack:\n",
      "['apple', 'banana', 'cherry']\n"
     ]
    }
   ],
   "source": [
    "# Empty stack\n",
    "stack1 = Stack()\n",
    "stack1.display_stack()\n",
    "\n",
    "# Pre-initialized stack\n",
    "stack2 = Stack(['apple', 'banana', 'cherry'])\n",
    "print(\"\\nInitialized stack:\")\n",
    "stack2.display_stack()"
   ]
  },
  {
   "cell_type": "markdown",
   "metadata": {},
   "source": [
    "## 2. Core Method Testing\n",
    "### 2.1 push() Method\n",
    "Testing element insertion:"
   ]
  },
  {
   "cell_type": "code",
   "execution_count": 8,
   "metadata": {},
   "outputs": [
    {
     "name": "stdout",
     "output_type": "stream",
     "text": [
      "Before pushes:\n",
      "[]\n",
      "\n",
      "After 3 pushes:\n",
      "[10, 20, 30]\n"
     ]
    }
   ],
   "source": [
    "test_stack = Stack()\n",
    "print(\"Before pushes:\")\n",
    "test_stack.display_stack()\n",
    "\n",
    "test_stack.push(10)\n",
    "test_stack.push(20)\n",
    "test_stack.push(30)\n",
    "\n",
    "print(\"\\nAfter 3 pushes:\")\n",
    "test_stack.display_stack()"
   ]
  },
  {
   "cell_type": "markdown",
   "metadata": {},
   "source": [
    "### 2.2 pop() Method\n",
    "Testing element removal:"
   ]
  },
  {
   "cell_type": "code",
   "execution_count": 9,
   "metadata": {},
   "outputs": [
    {
     "name": "stdout",
     "output_type": "stream",
     "text": [
      "Initial state:\n",
      "[10, 20, 30]\n",
      "\n",
      "First pop: 30\n",
      "After first pop:\n",
      "[10, 20]\n",
      "\n",
      "Second pop: 20\n",
      "After second pop:\n",
      "[10]\n"
     ]
    }
   ],
   "source": [
    "print(\"Initial state:\")\n",
    "test_stack.display_stack()\n",
    "\n",
    "print(\"\\nFirst pop:\", test_stack.pop())\n",
    "print(\"After first pop:\")\n",
    "test_stack.display_stack()\n",
    "\n",
    "print(\"\\nSecond pop:\", test_stack.pop())\n",
    "print(\"After second pop:\")\n",
    "test_stack.display_stack()"
   ]
  },
  {
   "cell_type": "markdown",
   "metadata": {},
   "source": [
    "### 2.3 Error Handling\n",
    "Testing empty stack operations:"
   ]
  },
  {
   "cell_type": "code",
   "execution_count": 10,
   "metadata": {},
   "outputs": [
    {
     "name": "stdout",
     "output_type": "stream",
     "text": [
      "Error caught: Pop from empty stack\n"
     ]
    }
   ],
   "source": [
    "try:\n",
    "    empty_stack = Stack()\n",
    "    empty_stack.pop()\n",
    "except IndexError as e:\n",
    "    print(f\"Error caught: {str(e)}\")"
   ]
  },
  {
   "cell_type": "markdown",
   "metadata": {},
   "source": [
    "### 2.4 top() & peek() Methods\n",
    "Testing element inspection:"
   ]
  },
  {
   "cell_type": "code",
   "execution_count": 11,
   "metadata": {},
   "outputs": [
    {
     "name": "stdout",
     "output_type": "stream",
     "text": [
      "Using top(): blue\n",
      "Using peek(): blue\n",
      "\n",
      "Stack remains unchanged:\n",
      "['red', 'green', 'blue']\n"
     ]
    }
   ],
   "source": [
    "inspect_stack = Stack(['red', 'green', 'blue'])\n",
    "print(\"Using top():\", inspect_stack.top())\n",
    "print(\"Using peek():\", inspect_stack.peek())\n",
    "print(\"\\nStack remains unchanged:\")\n",
    "inspect_stack.display_stack()"
   ]
  },
  {
   "cell_type": "markdown",
   "metadata": {},
   "source": [
    "### 2.5 Comparaison between pop() & peek() Methods"
   ]
  },
  {
   "cell_type": "code",
   "execution_count": 18,
   "metadata": {},
   "outputs": [
    {
     "name": "stdout",
     "output_type": "stream",
     "text": [
      "\n",
      "Initial of test_top:\n",
      "['red', 'green', 'blue']\n",
      "\n",
      "Initial of test_peek:\n",
      "['red', 'green', 'blue']\n",
      "\n",
      "Using pop(): blue\n",
      "After pop():\n",
      "['red', 'green']\n",
      "Using peek(): blue\n",
      "After peek():\n",
      "['red', 'green', 'blue']\n"
     ]
    }
   ],
   "source": [
    "test_peek = Stack(['red', 'green', 'blue'])\n",
    "test_top = Stack(['red', 'green', 'blue'])\n",
    "print(\"\\nInitial of test_top:\")\n",
    "test_top.display_stack()\n",
    "print(\"\\nInitial of test_peek:\")\n",
    "test_peek.display_stack()\n",
    "\n",
    "print(\"\\nUsing pop():\", test_top.pop())\n",
    "print(\"After pop():\")\n",
    "test_top.display_stack()\n",
    "print(\"Using peek():\", test_peek.peek())\n",
    "print(\"After peek():\")\n",
    "test_peek.display_stack()"
   ]
  },
  {
   "cell_type": "markdown",
   "metadata": {},
   "source": [
    "### 2.6 size() Method\n",
    "Testing size tracking:"
   ]
  },
  {
   "cell_type": "code",
   "execution_count": 13,
   "metadata": {},
   "outputs": [
    {
     "name": "stdout",
     "output_type": "stream",
     "text": [
      "Initial size: 0\n",
      "\n",
      "Size after pushes: 3\n"
     ]
    }
   ],
   "source": [
    "size_test = Stack()\n",
    "print(\"Initial size:\", size_test.size())\n",
    "\n",
    "size_test.push('a')\n",
    "size_test.push('b')\n",
    "size_test.push('c')\n",
    "print(\"\\nSize after pushes:\", size_test.size())"
   ]
  },
  {
   "cell_type": "markdown",
   "metadata": {},
   "source": [
    "### 2.7 is_empty() Method\n",
    "Testing empty status check:"
   ]
  },
  {
   "cell_type": "code",
   "execution_count": 14,
   "metadata": {},
   "outputs": [
    {
     "name": "stdout",
     "output_type": "stream",
     "text": [
      "Stack1 empty? True\n",
      "Stack2 empty? False\n"
     ]
    }
   ],
   "source": [
    "print(\"Stack1 empty?\", stack1.is_empty())\n",
    "print(\"Stack2 empty?\", stack2.is_empty())"
   ]
  },
  {
   "cell_type": "markdown",
   "metadata": {},
   "source": [
    "## 3. Practical Use Case\n",
    "### String Reversal Using Stack"
   ]
  },
  {
   "cell_type": "code",
   "execution_count": 15,
   "metadata": {},
   "outputs": [
    {
     "name": "stdout",
     "output_type": "stream",
     "text": [
      "Original: StackPower!\n",
      "Reversed: !rewoPkcatS\n"
     ]
    }
   ],
   "source": [
    "def reverse_string(input_str):\n",
    "    \"\"\"Reverse string using stack.\"\"\"\n",
    "    char_stack = Stack()\n",
    "    for char in input_str:\n",
    "        char_stack.push(char)\n",
    "    \n",
    "    reversed_chars = []\n",
    "    while not char_stack.is_empty():\n",
    "        reversed_chars.append(char_stack.pop())\n",
    "    \n",
    "    return ''.join(reversed_chars)\n",
    "\n",
    "# Demonstration\n",
    "original = \"StackPower!\"\n",
    "reversed_str = reverse_string(original)\n",
    "print(f\"Original: {original}\")\n",
    "print(f\"Reversed: {reversed_str}\")"
   ]
  },
  {
   "cell_type": "markdown",
   "metadata": {},
   "source": [
    "## 4. Edge Case Testing\n",
    "### Single Element Behavior"
   ]
  },
  {
   "cell_type": "code",
   "execution_count": 16,
   "metadata": {},
   "outputs": [
    {
     "name": "stdout",
     "output_type": "stream",
     "text": [
      "Top element: 42\n",
      "Empty after pop? True\n"
     ]
    }
   ],
   "source": [
    "single_stack = Stack([42])\n",
    "print(\"Top element:\", single_stack.top())\n",
    "single_stack.pop()\n",
    "print(\"Empty after pop?\", single_stack.is_empty())"
   ]
  },
  {
   "cell_type": "markdown",
   "metadata": {},
   "source": [
    "## 5. Performance Test\n",
    "### Mass Insertion Benchmark"
   ]
  },
  {
   "cell_type": "code",
   "execution_count": 17,
   "metadata": {},
   "outputs": [
    {
     "name": "stdout",
     "output_type": "stream",
     "text": [
      "Final size: 10000\n",
      "CPU times: user 1.24 ms, sys: 61 μs, total: 1.3 ms\n",
      "Wall time: 1.3 ms\n"
     ]
    }
   ],
   "source": [
    "%%time\n",
    "large_stack = Stack()\n",
    "for num in range(10_000):\n",
    "    large_stack.push(num)\n",
    "\n",
    "print(\"Final size:\", large_stack.size())"
   ]
  },
  {
   "cell_type": "markdown",
   "metadata": {},
   "source": [
    "## 7. Conclusion\n",
    "\n",
    "✅ All methods validated  \n",
    "✅ Error handling functional  \n",
    "✅ Practical application demonstrated  \n",
    "✅ Performance verified\n",
    "\n",
    "The `Stack` implementation is production-ready!"
   ]
  }
 ],
 "metadata": {
  "kernelspec": {
   "display_name": "my_env",
   "language": "python",
   "name": "python3"
  },
  "language_info": {
   "codemirror_mode": {
    "name": "ipython",
    "version": 3
   },
   "file_extension": ".py",
   "mimetype": "text/x-python",
   "name": "python",
   "nbconvert_exporter": "python",
   "pygments_lexer": "ipython3",
   "version": "3.13.2"
  }
 },
 "nbformat": 4,
 "nbformat_minor": 2
}
