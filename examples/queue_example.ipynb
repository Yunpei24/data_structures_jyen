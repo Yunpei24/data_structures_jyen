{
 "cells": [
  {
   "cell_type": "markdown",
   "metadata": {},
   "source": [
    "# 📚 Queue Implementation Notebook\n",
    " \n",
    "This notebook demonstrates the usage of all Queue class methods through guided examples."
   ]
  },
  {
   "cell_type": "markdown",
   "metadata": {},
   "source": [
    "![](https://media.geeksforgeeks.org/wp-content/cdn-uploads/gq/2014/02/Queue.png)"
   ]
  },
  {
   "cell_type": "markdown",
   "metadata": {},
   "source": [
    "## 1. Setup & Initialization\n",
    "Import the Queue class and create instances"
   ]
  },
  {
   "cell_type": "code",
   "execution_count": null,
   "metadata": {},
   "outputs": [],
   "source": [
    "# This is installation command for this package. Decomment it if you want to install it.\n",
    "#!pip install jyen-data-structure"
   ]
  },
  {
   "cell_type": "code",
   "execution_count": 1,
   "metadata": {},
   "outputs": [],
   "source": [
    "import sys\n",
    "import os\n",
    "\n",
    "sys.path.append(os.path.abspath(\"..\"))\n",
    "from data_structures_jyen.queue import Queue"
   ]
  },
  {
   "cell_type": "code",
   "execution_count": 2,
   "metadata": {},
   "outputs": [],
   "source": [
    "# Create queues with different configurations\n",
    "normal_queue = Queue()\n",
    "limited_queue = Queue(max_size=3)"
   ]
  },
  {
   "cell_type": "markdown",
   "metadata": {},
   "source": [
    "## 2. Basic Operations\n",
    " \n",
    "### 2.1 Enqueue Elements\n",
    "```python\n",
    "enqueue(new_data)\n",
    "```"
   ]
  },
  {
   "cell_type": "code",
   "execution_count": 3,
   "metadata": {},
   "outputs": [
    {
     "name": "stdout",
     "output_type": "stream",
     "text": [
      "Adding elements to normal queue:\n",
      "Front -> 10 | 20 | 30 <- Rear\n"
     ]
    }
   ],
   "source": [
    "print(\"Adding elements to normal queue:\")\n",
    "normal_queue.enqueue(10)\n",
    "normal_queue.enqueue(20)\n",
    "normal_queue.enqueue(30)\n",
    "normal_queue.display_queue()  # Front -> 10 | 20 | 30 <- Rear"
   ]
  },
  {
   "cell_type": "markdown",
   "metadata": {},
   "source": [
    "### 2.2 Dequeue Elements\n",
    "```python\n",
    "dequeue()\n",
    "```"
   ]
  },
  {
   "cell_type": "code",
   "execution_count": 4,
   "metadata": {},
   "outputs": [
    {
     "name": "stdout",
     "output_type": "stream",
     "text": [
      "Before dequeue:\n",
      "Front -> 10 | 20 | 30 <- Rear\n",
      "\n",
      "Removed element: 10\n",
      "After dequeue:\n",
      "Front -> 20 | 30 <- Rear\n"
     ]
    }
   ],
   "source": [
    "print(\"Before dequeue:\")\n",
    "normal_queue.display_queue()\n",
    "\n",
    "removed = normal_queue.dequeue()\n",
    "print(f\"\\nRemoved element: {removed}\")\n",
    "print(\"After dequeue:\")\n",
    "normal_queue.display_queue()"
   ]
  },
  {
   "cell_type": "markdown",
   "metadata": {},
   "source": [
    "## 3. Queue Inspection Methods\n",
    " \n",
    "### 3.1 Peek Front Element\n",
    "```python\n",
    "peek()\n",
    "```"
   ]
  },
  {
   "cell_type": "code",
   "execution_count": 5,
   "metadata": {},
   "outputs": [
    {
     "name": "stdout",
     "output_type": "stream",
     "text": [
      "Current queue:\n",
      "Front -> 20 | 30 <- Rear\n",
      "Front element: 20\n"
     ]
    }
   ],
   "source": [
    "print(\"Current queue:\")\n",
    "normal_queue.display_queue()\n",
    "print(f\"Front element: {normal_queue.peek()}\")"
   ]
  },
  {
   "cell_type": "markdown",
   "metadata": {},
   "source": [
    "### 3.2 Check Rear Element\n",
    "```python\n",
    "rear()\n",
    "```"
   ]
  },
  {
   "cell_type": "code",
   "execution_count": 6,
   "metadata": {},
   "outputs": [
    {
     "name": "stdout",
     "output_type": "stream",
     "text": [
      "Current queue:\n",
      "Front -> 20 | 30 <- Rear\n",
      "Rear element: 30\n"
     ]
    }
   ],
   "source": [
    "print(\"Current queue:\")\n",
    "normal_queue.display_queue()\n",
    "print(f\"Rear element: {normal_queue.rear()}\")"
   ]
  },
  {
   "cell_type": "markdown",
   "metadata": {},
   "source": [
    "## 4. Capacity Management \n",
    "### 4.1 Check Empty Status\n",
    "```python\n",
    "is_empty()\n",
    "```"
   ]
  },
  {
   "cell_type": "code",
   "execution_count": 7,
   "metadata": {},
   "outputs": [
    {
     "name": "stdout",
     "output_type": "stream",
     "text": [
      "New queue empty? True\n",
      "Normal queue empty? False\n"
     ]
    }
   ],
   "source": [
    "new_queue = Queue()\n",
    "print(f\"New queue empty? {new_queue.is_empty()}\")\n",
    "print(f\"Normal queue empty? {normal_queue.is_empty()}\")"
   ]
  },
  {
   "cell_type": "markdown",
   "metadata": {},
   "source": [
    "### 4.2 Size-limited Queue\n",
    "```python\n",
    "is_full()\n",
    "```"
   ]
  },
  {
   "cell_type": "code",
   "execution_count": 8,
   "metadata": {},
   "outputs": [
    {
     "name": "stdout",
     "output_type": "stream",
     "text": [
      "Filling limited queue:\n",
      "Is full? False\n"
     ]
    }
   ],
   "source": [
    "print(\"Filling limited queue:\")\n",
    "limited_queue.enqueue(1)\n",
    "limited_queue.enqueue(2)\n",
    "print(f\"Is full? {limited_queue.is_full()}\")"
   ]
  },
  {
   "cell_type": "code",
   "execution_count": 9,
   "metadata": {},
   "outputs": [
    {
     "name": "stdout",
     "output_type": "stream",
     "text": [
      "\n",
      "After third element:\n",
      "Is full? True\n"
     ]
    }
   ],
   "source": [
    "limited_queue.enqueue(3)\n",
    "print(\"\\nAfter third element:\")\n",
    "print(f\"Is full? {limited_queue.is_full()}\")"
   ]
  },
  {
   "cell_type": "markdown",
   "metadata": {},
   "source": [
    "## 5. Error Handling \n",
    "### 5.1 Dequeue from Empty\n",
    "```python\n",
    "dequeue()\n",
    "```"
   ]
  },
  {
   "cell_type": "code",
   "execution_count": 10,
   "metadata": {},
   "outputs": [
    {
     "name": "stdout",
     "output_type": "stream",
     "text": [
      "Proper error handling: Dequeue from empty queue\n"
     ]
    }
   ],
   "source": [
    "empty_queue = Queue()\n",
    "try:\n",
    "    empty_queue.dequeue()\n",
    "except IndexError as e:\n",
    "    print(f\"Proper error handling: {e}\")\n"
   ]
  },
  {
   "cell_type": "markdown",
   "metadata": {},
   "source": [
    "### 5.2 Enqueue to Full\n",
    " ```python\n",
    " enqueue()\n",
    " ```"
   ]
  },
  {
   "cell_type": "code",
   "execution_count": 11,
   "metadata": {},
   "outputs": [
    {
     "name": "stdout",
     "output_type": "stream",
     "text": [
      "Capacity enforcement: Queue is full\n"
     ]
    }
   ],
   "source": [
    "try:\n",
    "    limited_queue.enqueue(4)\n",
    "except OverflowError as e:\n",
    "    print(f\"Capacity enforcement: {e}\")"
   ]
  },
  {
   "cell_type": "markdown",
   "metadata": {},
   "source": [
    "## 6. Advanced Features\n",
    "\n",
    "### 6.1 Queue Length\n",
    " ```python\n",
    " __len__()\n",
    " ```"
   ]
  },
  {
   "cell_type": "code",
   "execution_count": 12,
   "metadata": {},
   "outputs": [
    {
     "name": "stdout",
     "output_type": "stream",
     "text": [
      "Front -> 20 | 30 <- Rear\n",
      "Queue length: 2\n"
     ]
    }
   ],
   "source": [
    "normal_queue.display_queue()\n",
    "print(f\"Queue length: {len(normal_queue)}\")"
   ]
  },
  {
   "cell_type": "markdown",
   "metadata": {},
   "source": [
    "### 6.2 String Representation\n",
    "```python\n",
    "__repr__()\n",
    "```"
   ]
  },
  {
   "cell_type": "code",
   "execution_count": 13,
   "metadata": {},
   "outputs": [
    {
     "name": "stdout",
     "output_type": "stream",
     "text": [
      "String representation:\n",
      "Queue([20, 30])\n"
     ]
    }
   ],
   "source": [
    "print(\"String representation:\")\n",
    "print(repr(normal_queue))"
   ]
  },
  {
   "cell_type": "markdown",
   "metadata": {},
   "source": [
    "## 7. Real-world Simulation\n",
    " \n",
    "### 7.1 Customer Service Queue"
   ]
  },
  {
   "cell_type": "code",
   "execution_count": 14,
   "metadata": {},
   "outputs": [
    {
     "name": "stdout",
     "output_type": "stream",
     "text": [
      "Customers arriving:\n",
      "Front -> Alice | Bob | Charlie <- Rear\n",
      "\n",
      "Processing customers:\n",
      "Helping Alice...\n",
      "Helping Bob...\n",
      "Helping Charlie...\n",
      "\n",
      "Final queue state:\n",
      "Front ->  <- Rear\n"
     ]
    }
   ],
   "source": [
    "support_queue = Queue()\n",
    "print(\"Customers arriving:\")\n",
    "support_queue.enqueue(\"Alice\")\n",
    "support_queue.enqueue(\"Bob\")\n",
    "support_queue.enqueue(\"Charlie\")\n",
    "support_queue.display_queue()\n",
    "\n",
    "print(\"\\nProcessing customers:\")\n",
    "while not support_queue.is_empty():\n",
    "    current = support_queue.dequeue()\n",
    "    print(f\"Helping {current}...\")\n",
    "\n",
    "print(\"\\nFinal queue state:\")\n",
    "support_queue.display_queue()"
   ]
  },
  {
   "cell_type": "markdown",
   "metadata": {},
   "source": [
    "## 8. Performance Test\n",
    "# \n",
    "### 8.1 Large-scale Operations\n"
   ]
  },
  {
   "cell_type": "code",
   "execution_count": 16,
   "metadata": {},
   "outputs": [
    {
     "name": "stdout",
     "output_type": "stream",
     "text": [
      "Queue length: 10000\n",
      "Operations completed\n",
      "CPU times: user 11.6 ms, sys: 630 μs, total: 12.3 ms\n",
      "Wall time: 12.2 ms\n"
     ]
    }
   ],
   "source": [
    "%%time\n",
    "massive_queue = Queue()\n",
    "for i in range(10_000):\n",
    "    massive_queue.enqueue(i)\n",
    "\n",
    "print(f\"Queue length: {len(massive_queue)}\")\n",
    "while not massive_queue.is_empty():\n",
    "    massive_queue.dequeue()\n",
    "\n",
    "print(\"Operations completed\")"
   ]
  },
  {
   "cell_type": "markdown",
   "metadata": {},
   "source": [
    "## 9. Final Verification\n",
    "# \n",
    "#\n",
    " | Method               | Tested Functionality      | Status  |\n",
    " |----------------------|---------------------------|---------|\n",
    " | `enqueue`            | Element addition          | ✅      |\n",
    " | `dequeue`            | Element removal           | ✅      |\n",
    " | `peek`               | Front element access      | ✅      |\n",
    " | `rear`               | End element access        | ✅      |\n",
    " | `is_empty`           | Empty state check         | ✅      |\n",
    " | `is_full`            | Capacity check            | ✅      |\n",
    " | `display_queue`      | Visual representation     | ✅      |\n",
    " | `__len__`            | Length implementation     | ✅      |\n",
    " | `__repr__`           | String representation     | ✅      |\n",
    " | Error Handling       | Empty/Full operations     | ✅      |\n",
    " \n"
   ]
  }
 ],
 "metadata": {
  "kernelspec": {
   "display_name": "my_env",
   "language": "python",
   "name": "python3"
  },
  "language_info": {
   "codemirror_mode": {
    "name": "ipython",
    "version": 3
   },
   "file_extension": ".py",
   "mimetype": "text/x-python",
   "name": "python",
   "nbconvert_exporter": "python",
   "pygments_lexer": "ipython3",
   "version": "3.13.2"
  }
 },
 "nbformat": 4,
 "nbformat_minor": 2
}
