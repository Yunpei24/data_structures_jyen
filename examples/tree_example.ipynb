{
 "cells": [
  {
   "cell_type": "markdown",
   "metadata": {},
   "source": [
    "# 📚 Binary Search Tree (BST) Demonstration Notebook\n",
    "# \n",
    "This notebook demonstrates all BST operations through practical examples.\n"
   ]
  },
  {
   "cell_type": "markdown",
   "metadata": {},
   "source": [
    "![](https://upload.wikimedia.org/wikipedia/commons/thumb/d/da/Binary_search_tree.svg/1200px-Binary_search_tree.svg.png)"
   ]
  },
  {
   "cell_type": "markdown",
   "metadata": {},
   "source": [
    "## 1. Setup & Initialization\n",
    "Import the BinaryTree class and create instance"
   ]
  },
  {
   "cell_type": "code",
   "execution_count": null,
   "metadata": {},
   "outputs": [],
   "source": [
    "# This is installation command for this package. Decomment it if you want to install it.\n",
    "#!pip install jyen-data-structure"
   ]
  },
  {
   "cell_type": "code",
   "execution_count": 1,
   "metadata": {},
   "outputs": [],
   "source": [
    "import sys\n",
    "import os\n",
    "\n",
    "sys.path.append(os.path.abspath(\"..\"))\n",
    "from data_structures_jyen.tree import BinaryTree"
   ]
  },
  {
   "cell_type": "code",
   "execution_count": 2,
   "metadata": {},
   "outputs": [],
   "source": [
    "# Create BST instance\n",
    "bst = BinaryTree()"
   ]
  },
  {
   "cell_type": "markdown",
   "metadata": {},
   "source": [
    "## 2. Insertion Operations\n",
    "# \n",
    "### 2.1 Building the Tree\n",
    "```python\n",
    " addNode(data)\n",
    "```"
   ]
  },
  {
   "cell_type": "code",
   "execution_count": 3,
   "metadata": {},
   "outputs": [
    {
     "name": "stdout",
     "output_type": "stream",
     "text": [
      "Initial tree:\n",
      "    ______50___   \n",
      "   /           \\  \n",
      "  30___       70_ \n",
      " /     \\     /   \\\n",
      "20    40_   60  80\n",
      "     /   \\        \n",
      "    35  45        \n"
     ]
    }
   ],
   "source": [
    "values = [50, 30, 70, 20, 40, 60, 80, 35, 45]\n",
    "\n",
    "for v in values:\n",
    "    bst.addNode(v)\n",
    "\n",
    "print(\"Initial tree:\")\n",
    "bst.display()"
   ]
  },
  {
   "cell_type": "markdown",
   "metadata": {},
   "source": [
    "### 2.2 Handling Duplicates"
   ]
  },
  {
   "cell_type": "code",
   "execution_count": 4,
   "metadata": {},
   "outputs": [
    {
     "name": "stdout",
     "output_type": "stream",
     "text": [
      "\n",
      "Attempting to insert duplicate value 50:\n",
      "Value 50 already exists in the tree.\n"
     ]
    }
   ],
   "source": [
    "print(\"\\nAttempting to insert duplicate value 50:\")\n",
    "bst.addNode(50)  # Should show duplicate message"
   ]
  },
  {
   "cell_type": "markdown",
   "metadata": {},
   "source": [
    "### 2.3 Insert New Leaf Node\n"
   ]
  },
  {
   "cell_type": "code",
   "execution_count": 5,
   "metadata": {},
   "outputs": [
    {
     "name": "stdout",
     "output_type": "stream",
     "text": [
      "Before insertion:\n",
      "    ______50___   \n",
      "   /           \\  \n",
      "  30___       70_ \n",
      " /     \\     /   \\\n",
      "20    40_   60  80\n",
      "     /   \\        \n",
      "    35  45        \n",
      "\n",
      "After inserting 65:\n",
      "    ______50_____   \n",
      "   /             \\  \n",
      "  30___       __70_ \n",
      " /     \\     /     \\\n",
      "20    40_   60_   80\n",
      "     /   \\     \\    \n",
      "    35  45    65    \n"
     ]
    }
   ],
   "source": [
    "print(\"Before insertion:\")\n",
    "bst.display()\n",
    "\n",
    "bst.addNode(65)\n",
    "\n",
    "print(\"\\nAfter inserting 65:\")\n",
    "bst.display()\n"
   ]
  },
  {
   "cell_type": "markdown",
   "metadata": {},
   "source": [
    "## 3. Search Operations\n",
    "\n",
    "### 3.1 Existing Value\n"
   ]
  },
  {
   "cell_type": "code",
   "execution_count": 6,
   "metadata": {},
   "outputs": [
    {
     "name": "stdout",
     "output_type": "stream",
     "text": [
      "Search for 35: True\n"
     ]
    }
   ],
   "source": [
    "print(\"Search for 35:\", bst.searchNode(35))"
   ]
  },
  {
   "cell_type": "markdown",
   "metadata": {},
   "source": [
    "### 3.2 Non-existent Value"
   ]
  },
  {
   "cell_type": "code",
   "execution_count": 7,
   "metadata": {},
   "outputs": [
    {
     "name": "stdout",
     "output_type": "stream",
     "text": [
      "Search for 100: False\n"
     ]
    }
   ],
   "source": [
    "print(\"Search for 100:\", bst.searchNode(100))"
   ]
  },
  {
   "cell_type": "markdown",
   "metadata": {},
   "source": [
    "## 4. Deletion Operations\n",
    "\n",
    "### 4.1 Delete Leaf Node (45)\n"
   ]
  },
  {
   "cell_type": "code",
   "execution_count": 8,
   "metadata": {},
   "outputs": [
    {
     "name": "stdout",
     "output_type": "stream",
     "text": [
      "Before deletion:\n",
      "    ______50_____   \n",
      "   /             \\  \n",
      "  30___       __70_ \n",
      " /     \\     /     \\\n",
      "20    40_   60_   80\n",
      "     /   \\     \\    \n",
      "    35  45    65    \n",
      "\n",
      "After deleting leaf node 45:\n",
      "    ____50_____   \n",
      "   /           \\  \n",
      "  30___     __70_ \n",
      " /     \\   /     \\\n",
      "20    40  60_   80\n",
      "     /       \\    \n",
      "    35      65    \n"
     ]
    }
   ],
   "source": [
    "print(\"Before deletion:\")\n",
    "bst.display()\n",
    "\n",
    "bst.deleteNode(45)\n",
    "\n",
    "print(\"\\nAfter deleting leaf node 45:\")\n",
    "bst.display()\n"
   ]
  },
  {
   "cell_type": "markdown",
   "metadata": {},
   "source": [
    "### 4.2 Delete Node with One Child (40)\n"
   ]
  },
  {
   "cell_type": "code",
   "execution_count": 9,
   "metadata": {},
   "outputs": [
    {
     "name": "stdout",
     "output_type": "stream",
     "text": [
      "Before deletion:\n",
      "    ____50_____   \n",
      "   /           \\  \n",
      "  30___     __70_ \n",
      " /     \\   /     \\\n",
      "20    40  60_   80\n",
      "     /       \\    \n",
      "    35      65    \n",
      "\n",
      "After deleting node with one child 40:\n",
      "    __50_____   \n",
      "   /         \\  \n",
      "  30_     __70_ \n",
      " /   \\   /     \\\n",
      "20  35  60_   80\n",
      "           \\    \n",
      "          65    \n"
     ]
    }
   ],
   "source": [
    "print(\"Before deletion:\")\n",
    "bst.display()\n",
    "\n",
    "bst.deleteNode(40)\n",
    "\n",
    "print(\"\\nAfter deleting node with one child 40:\")\n",
    "bst.display()\n"
   ]
  },
  {
   "cell_type": "markdown",
   "metadata": {},
   "source": [
    "### 4.3 Delete Root Node (50)\n"
   ]
  },
  {
   "cell_type": "code",
   "execution_count": 10,
   "metadata": {},
   "outputs": [
    {
     "name": "stdout",
     "output_type": "stream",
     "text": [
      "Before root deletion:\n",
      "    __50_____   \n",
      "   /         \\  \n",
      "  30_     __70_ \n",
      " /   \\   /     \\\n",
      "20  35  60_   80\n",
      "           \\    \n",
      "          65    \n",
      "\n",
      "After deleting root node 50:\n",
      "    __60___   \n",
      "   /       \\  \n",
      "  30_     70_ \n",
      " /   \\   /   \\\n",
      "20  35  65  80\n"
     ]
    }
   ],
   "source": [
    "print(\"Before root deletion:\")\n",
    "bst.display()\n",
    "\n",
    "bst.deleteNode(50)\n",
    "\n",
    "print(\"\\nAfter deleting root node 50:\")\n",
    "bst.display()"
   ]
  },
  {
   "cell_type": "markdown",
   "metadata": {},
   "source": [
    "## 5. Traversal Methods\n",
    "# \n",
    "### 5.1 In-Order Traversal\n",
    "```python\n",
    "inorder_traversal()\n",
    "```"
   ]
  },
  {
   "cell_type": "code",
   "execution_count": 11,
   "metadata": {},
   "outputs": [
    {
     "name": "stdout",
     "output_type": "stream",
     "text": [
      "In-order traversal (sorted order):\n",
      "[20, 30, 35, 60, 65, 70, 80]\n"
     ]
    }
   ],
   "source": [
    "print(\"In-order traversal (sorted order):\")\n",
    "print(bst.inorder_traversal())"
   ]
  },
  {
   "cell_type": "markdown",
   "metadata": {},
   "source": [
    "### 5.2 Pre-Order Traversal\n",
    "```python\n",
    "preorder_traversal()\n",
    "```"
   ]
  },
  {
   "cell_type": "code",
   "execution_count": 12,
   "metadata": {},
   "outputs": [
    {
     "name": "stdout",
     "output_type": "stream",
     "text": [
      "\n",
      "Pre-order traversal (root first):\n",
      "    __60___   \n",
      "   /       \\  \n",
      "  30_     70_ \n",
      " /   \\   /   \\\n",
      "20  35  65  80\n",
      "[60, 30, 20, 35, 70, 65, 80]\n"
     ]
    }
   ],
   "source": [
    "print(\"\\nPre-order traversal (root first):\")\n",
    "bst.display()\n",
    "print(bst.preorder_traversal())"
   ]
  },
  {
   "cell_type": "markdown",
   "metadata": {},
   "source": [
    "### 5.3 Post-Order Traversal\n",
    "```python\n",
    " postorder_traversal()\n",
    "```"
   ]
  },
  {
   "cell_type": "code",
   "execution_count": 17,
   "metadata": {},
   "outputs": [
    {
     "name": "stdout",
     "output_type": "stream",
     "text": [
      "\n",
      "Post-order traversal (root last):\n",
      "    __60___   \n",
      "   /       \\  \n",
      "  30_     70_ \n",
      " /   \\   /   \\\n",
      "20  35  65  80\n",
      "[20, 35, 30, 65, 80, 70, 60]\n"
     ]
    }
   ],
   "source": [
    "print(\"\\nPost-order traversal (root last):\")\n",
    "bst.display()\n",
    "print(bst.postorder_traversal())"
   ]
  },
  {
   "cell_type": "markdown",
   "metadata": {},
   "source": [
    "## 6. Edge Cases\n",
    "\n",
    "### 6.1 Empty Tree\n"
   ]
  },
  {
   "cell_type": "code",
   "execution_count": 14,
   "metadata": {},
   "outputs": [
    {
     "name": "stdout",
     "output_type": "stream",
     "text": [
      "Empty tree display:\n",
      "Empty tree\n"
     ]
    }
   ],
   "source": [
    "empty_tree = BinaryTree()\n",
    "print(\"Empty tree display:\")\n",
    "empty_tree.display()\n"
   ]
  },
  {
   "cell_type": "markdown",
   "metadata": {},
   "source": [
    "### 6.2 Right-Skewed Tree\n"
   ]
  },
  {
   "cell_type": "code",
   "execution_count": 15,
   "metadata": {},
   "outputs": [
    {
     "name": "stdout",
     "output_type": "stream",
     "text": [
      "Right-skewed tree:\n",
      "10_       \n",
      "   \\      \n",
      "  20_     \n",
      "     \\    \n",
      "    30_   \n",
      "       \\  \n",
      "      40_ \n",
      "         \\\n",
      "        50\n"
     ]
    }
   ],
   "source": [
    "skewed = BinaryTree()\n",
    "for i in range(10, 51, 10):\n",
    "    skewed.addNode(i)\n",
    "\n",
    "print(\"Right-skewed tree:\")\n",
    "skewed.display()\n"
   ]
  },
  {
   "cell_type": "markdown",
   "metadata": {},
   "source": [
    "## 7. Real-world Example\n",
    "\n",
    "File System Hierarchy\n"
   ]
  },
  {
   "cell_type": "code",
   "execution_count": 16,
   "metadata": {},
   "outputs": [
    {
     "name": "stdout",
     "output_type": "stream",
     "text": [
      "File system size hierarchy:\n",
      "    __100____     \n",
      "   /         \\    \n",
      "  80_      _120_  \n",
      " /   \\    /     \\ \n",
      "70  90   110   130\n"
     ]
    }
   ],
   "source": [
    "file_system = BinaryTree()\n",
    "\n",
    "structure = [\n",
    "    (\"/\", 100),\n",
    "    (\"/usr\", 80),\n",
    "    (\"/home\", 120),\n",
    "    (\"/usr/bin\", 70),\n",
    "    (\"/usr/lib\", 90),\n",
    "    (\"/home/user\", 110),\n",
    "    (\"/home/shared\", 130)\n",
    "]\n",
    "\n",
    "for name, size in structure:\n",
    "    file_system.addNode(size)\n",
    "\n",
    "print(\"File system size hierarchy:\")\n",
    "file_system.display()"
   ]
  },
  {
   "cell_type": "markdown",
   "metadata": {},
   "source": [
    "## 8. Final Verification\n",
    "\n",
    "| Method               | Tested Functionality      | Status  |\n",
    "|----------------------|---------------------------|---------|\n",
    "| addNode            | Insertion & Duplicates    | ✅      |\n",
    "| searchNode         | Value Search              | ✅      |\n",
    "| deleteNode         | All Deletion Cases        | ✅      |\n",
    "| display            | Visual Hierarchy          | ✅      |\n",
    "| Traversals         | All Order Types           | ✅      |\n",
    "| Error Handling     | Empty Tree Cases          | ✅      |\n",
    "\n"
   ]
  }
 ],
 "metadata": {
  "kernelspec": {
   "display_name": "my_env",
   "language": "python",
   "name": "python3"
  },
  "language_info": {
   "codemirror_mode": {
    "name": "ipython",
    "version": 3
   },
   "file_extension": ".py",
   "mimetype": "text/x-python",
   "name": "python",
   "nbconvert_exporter": "python",
   "pygments_lexer": "ipython3",
   "version": "3.13.2"
  }
 },
 "nbformat": 4,
 "nbformat_minor": 2
}
