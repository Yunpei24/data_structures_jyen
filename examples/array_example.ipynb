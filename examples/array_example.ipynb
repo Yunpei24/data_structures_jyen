{
 "cells": [
  {
   "cell_type": "markdown",
   "metadata": {},
   "source": [
    "# 📚 Array Implementation Notebook\n",
    "# \n",
    "This notebook demonstrates all operations of the Array class through practical examples.\n"
   ]
  },
  {
   "cell_type": "markdown",
   "metadata": {},
   "source": [
    "## 1. Setup & Initialization\n",
    "Import the Array class and create instances"
   ]
  },
  {
   "cell_type": "code",
   "execution_count": 1,
   "metadata": {},
   "outputs": [],
   "source": [
    "import sys\n",
    "import os\n",
    "\n",
    "sys.path.append(os.path.abspath(\"..\"))\n",
    "from data_structures_jyen.array import Array"
   ]
  },
  {
   "cell_type": "code",
   "execution_count": 17,
   "metadata": {},
   "outputs": [],
   "source": [
    "basic_arr = Array(5)\n",
    "full_arr = Array(3)"
   ]
  },
  {
   "cell_type": "markdown",
   "metadata": {},
   "source": [
    "## 2. Basic Operations\n",
    "\n",
    "### 2.1 Insertion Methods\n",
    "\n",
    "**Insert at specific position**  \n",
    "`insert_at(index, value)`\n"
   ]
  },
  {
   "cell_type": "code",
   "execution_count": 18,
   "metadata": {},
   "outputs": [
    {
     "name": "stdout",
     "output_type": "stream",
     "text": [
      "Empty array: []\n",
      "\n",
      "After insertions: [5, 10, 20]\n"
     ]
    }
   ],
   "source": [
    "print(\"Empty array:\", basic_arr)\n",
    "basic_arr.insert_at(0, 10)\n",
    "basic_arr.insert_at(1, 20)\n",
    "basic_arr.insert_at(0, 5)\n",
    "print(\"\\nAfter insertions:\", basic_arr)\n"
   ]
  },
  {
   "cell_type": "markdown",
   "metadata": {},
   "source": [
    "**Append to end**  \n",
    "`append(value)`\n"
   ]
  },
  {
   "cell_type": "code",
   "execution_count": 19,
   "metadata": {},
   "outputs": [
    {
     "name": "stdout",
     "output_type": "stream",
     "text": [
      "After appends: [5, 10, 20, 30, 40]\n"
     ]
    }
   ],
   "source": [
    "basic_arr.append(30)\n",
    "basic_arr.append(40)\n",
    "print(\"After appends:\", basic_arr)"
   ]
  },
  {
   "cell_type": "markdown",
   "metadata": {},
   "source": [
    "**Prepend to start**  \n",
    "`prepend(value)`\n"
   ]
  },
  {
   "cell_type": "code",
   "execution_count": 20,
   "metadata": {},
   "outputs": [
    {
     "name": "stdout",
     "output_type": "stream",
     "text": [
      "Prepend failed: Cannot insert into full array\n"
     ]
    }
   ],
   "source": [
    "try:\n",
    "    basic_arr.prepend(1)\n",
    "    print(\"After prepend:\", basic_arr)\n",
    "except OverflowError as e:\n",
    "    print(\"Prepend failed:\", e)"
   ]
  },
  {
   "cell_type": "markdown",
   "metadata": {},
   "source": [
    "## 3. Access & Modification\n",
    "\n",
    "### 3.1 Element Access\n",
    "`get(index)`\n"
   ]
  },
  {
   "cell_type": "code",
   "execution_count": 21,
   "metadata": {},
   "outputs": [
    {
     "name": "stdout",
     "output_type": "stream",
     "text": [
      "Element at index 2: 20\n",
      "Attempting invalid access...\n",
      "Error: Index 10 out of bounds [0, 4)\n"
     ]
    }
   ],
   "source": [
    "try:\n",
    "    print(\"Element at index 2:\", basic_arr.get(2))\n",
    "    print(\"Attempting invalid access...\")\n",
    "    basic_arr.get(10)\n",
    "except IndexError as e:\n",
    "    print(\"Error:\", e)"
   ]
  },
  {
   "cell_type": "markdown",
   "metadata": {},
   "source": [
    "### 3.2 Element Update\n",
    "`set(index, value)`"
   ]
  },
  {
   "cell_type": "code",
   "execution_count": 22,
   "metadata": {},
   "outputs": [
    {
     "name": "stdout",
     "output_type": "stream",
     "text": [
      "\n",
      "Before update: [5, 10, 20, 30, 40]\n",
      "After updating index 3: [5, 10, 20, 25, 40]\n"
     ]
    }
   ],
   "source": [
    "print(\"\\nBefore update:\", basic_arr)\n",
    "basic_arr.set(3, 25)\n",
    "print(\"After updating index 3:\", basic_arr)"
   ]
  },
  {
   "cell_type": "markdown",
   "metadata": {},
   "source": [
    "## 4. Advanced Operations\n",
    "\n",
    "### 4.1 Element Search\n",
    "`search(value)`"
   ]
  },
  {
   "cell_type": "code",
   "execution_count": 23,
   "metadata": {},
   "outputs": [
    {
     "name": "stdout",
     "output_type": "stream",
     "text": [
      "\n",
      "Search for 25: 3\n",
      "Search for 99: -1\n"
     ]
    }
   ],
   "source": [
    "print(\"\\nSearch for 25:\", basic_arr.search(25))\n",
    "print(\"Search for 99:\", basic_arr.search(99)) # not found. It'll return -1"
   ]
  },
  {
   "cell_type": "markdown",
   "metadata": {},
   "source": [
    "### 4.2 Array Reversal\n",
    "`reverse()`"
   ]
  },
  {
   "cell_type": "code",
   "execution_count": 24,
   "metadata": {},
   "outputs": [
    {
     "name": "stdout",
     "output_type": "stream",
     "text": [
      "\n",
      "Before reversal: [5, 10, 20, 25, 40]\n",
      "After reversal: [40, 25, 20, 10, 5]\n"
     ]
    }
   ],
   "source": [
    "print(\"\\nBefore reversal:\", basic_arr)\n",
    "basic_arr.reverse()\n",
    "print(\"After reversal:\", basic_arr)"
   ]
  },
  {
   "cell_type": "markdown",
   "metadata": {},
   "source": [
    "### 4.3 Array Sorting\n",
    "`sort()`"
   ]
  },
  {
   "cell_type": "code",
   "execution_count": 25,
   "metadata": {},
   "outputs": [
    {
     "name": "stdout",
     "output_type": "stream",
     "text": [
      "\n",
      "Before sorting: [40, 25, 20, 10, 5]\n",
      "After sorting: [5, 10, 20, 25, 40]\n"
     ]
    }
   ],
   "source": [
    "print(\"\\nBefore sorting:\", basic_arr)\n",
    "basic_arr.sort()\n",
    "print(\"After sorting:\", basic_arr)"
   ]
  },
  {
   "cell_type": "markdown",
   "metadata": {},
   "source": [
    "## 5. Removal Operations\n",
    "\n",
    "### 5.1 Remove by Index\n",
    "`remove_at(index)`"
   ]
  },
  {
   "cell_type": "code",
   "execution_count": 26,
   "metadata": {},
   "outputs": [
    {
     "name": "stdout",
     "output_type": "stream",
     "text": [
      "\n",
      "Before removal: [5, 10, 20, 25, 40]\n",
      "Removed element: 20\n",
      "After removal: [5, 10, 25, 40]\n"
     ]
    }
   ],
   "source": [
    "print(\"\\nBefore removal:\", basic_arr)\n",
    "removed = basic_arr.remove_at(2)\n",
    "print(f\"Removed element: {removed}\")\n",
    "print(\"After removal:\", basic_arr)"
   ]
  },
  {
   "cell_type": "markdown",
   "metadata": {},
   "source": [
    "### 5.2 Clear Array"
   ]
  },
  {
   "cell_type": "code",
   "execution_count": 27,
   "metadata": {},
   "outputs": [
    {
     "name": "stdout",
     "output_type": "stream",
     "text": [
      "\n",
      "Initial size: 4\n",
      "After clearing: []\n",
      "Final size: 0\n"
     ]
    }
   ],
   "source": [
    "print(\"\\nInitial size:\", len(basic_arr))\n",
    "while not basic_arr.is_empty():\n",
    "    basic_arr.remove_at(0)\n",
    "print(\"After clearing:\", basic_arr)\n",
    "print(\"Final size:\", len(basic_arr))"
   ]
  },
  {
   "cell_type": "markdown",
   "metadata": {},
   "source": [
    "## 6. Error Handling\n",
    "\n",
    "### 6.1 Overflow Handling"
   ]
  },
  {
   "cell_type": "code",
   "execution_count": 28,
   "metadata": {},
   "outputs": [
    {
     "name": "stdout",
     "output_type": "stream",
     "text": [
      "\n",
      "Full array: [1, 2, 3]\n",
      "Overflow handled: Cannot insert into full array\n"
     ]
    }
   ],
   "source": [
    "try:\n",
    "    full_arr.append(1)\n",
    "    full_arr.append(2)\n",
    "    full_arr.append(3)\n",
    "    print(\"\\nFull array:\", full_arr)\n",
    "    full_arr.append(4)\n",
    "except OverflowError as e:\n",
    "    print(\"Overflow handled:\", e)"
   ]
  },
  {
   "cell_type": "markdown",
   "metadata": {},
   "source": [
    "### 6.2 Invalid Index Handling"
   ]
  },
  {
   "cell_type": "code",
   "execution_count": 29,
   "metadata": {},
   "outputs": [
    {
     "name": "stdout",
     "output_type": "stream",
     "text": [
      "Proper empty handling: Cannot remove from empty array\n"
     ]
    }
   ],
   "source": [
    "try:\n",
    "    empty_arr = Array(2)\n",
    "    empty_arr.remove_at(0)\n",
    "except IndexError as e:\n",
    "    print(\"Proper empty handling:\", e)"
   ]
  },
  {
   "cell_type": "markdown",
   "metadata": {},
   "source": [
    "## 7. Real-world Example\n",
    "Task Management System"
   ]
  },
  {
   "cell_type": "code",
   "execution_count": 30,
   "metadata": {},
   "outputs": [
    {
     "name": "stdout",
     "output_type": "stream",
     "text": [
      "\n",
      "Adding tasks:\n",
      "Current tasks: ['Urgent: Fix bug', 'Write report', 'Email client']\n",
      "\n",
      "Processing first task: Urgent: Fix bug\n",
      "Remaining tasks: ['Write report', 'Email client']\n"
     ]
    }
   ],
   "source": [
    "task_array = Array(5)\n",
    "print(\"\\nAdding tasks:\")\n",
    "task_array.append(\"Write report\")\n",
    "task_array.append(\"Email client\")\n",
    "task_array.prepend(\"Urgent: Fix bug\")\n",
    "print(\"Current tasks:\", task_array)\n",
    "\n",
    "print(\"\\nProcessing first task:\", task_array.remove_at(0))\n",
    "print(\"Remaining tasks:\", task_array)"
   ]
  },
  {
   "cell_type": "markdown",
   "metadata": {},
   "source": [
    "## 8. Performance Test\n",
    "\n",
    "### 8.1 Large-scale Operations"
   ]
  },
  {
   "cell_type": "code",
   "execution_count": 31,
   "metadata": {},
   "outputs": [
    {
     "name": "stdout",
     "output_type": "stream",
     "text": [
      "Final size: 10000\n",
      "Operations completed\n",
      "CPU times: user 1.82 s, sys: 22.8 ms, total: 1.84 s\n",
      "Wall time: 1.85 s\n"
     ]
    }
   ],
   "source": [
    "%%time\n",
    "large_array = Array(10_000)\n",
    "for i in range(10_000):\n",
    "    large_array.append(i)\n",
    "    \n",
    "print(f\"Final size: {len(large_array)}\")\n",
    "while not large_array.is_empty():\n",
    "    large_array.remove_at(0)\n",
    "print(\"Operations completed\")"
   ]
  },
  {
   "cell_type": "markdown",
   "metadata": {},
   "source": [
    "## 9. Final Verification\n",
    "\n",
    "| Method          | Tested Functionality      | Status  |\n",
    "|-----------------|---------------------------|---------|\n",
    "| `insert_at`     | Positional insert         | ✅      |\n",
    "| `append`        | End insertion             | ✅      |\n",
    "| `prepend`       | Start insertion           | ✅      |\n",
    "| `get`           | Element access            | ✅      |\n",
    "| `set`           | Element update            | ✅      |\n",
    "| `search`        | Value lookup              | ✅      |\n",
    "| `reverse`       | In-place reversal         | ✅      |\n",
    "| `sort`          | Sorting                   | ✅      |\n",
    "| `remove_at`     | Positional removal        | ✅      |\n",
    "| `is_empty`      | Empty check               | ✅      |\n",
    "| `is_full`       | Capacity check            | ✅      |\n",
    "| Error Handling  | Edge case management      | ✅      |\n",
    "\n",
    "All array operations validated with practical examples. Ready for production use!"
   ]
  }
 ],
 "metadata": {
  "kernelspec": {
   "display_name": "my_env",
   "language": "python",
   "name": "python3"
  },
  "language_info": {
   "codemirror_mode": {
    "name": "ipython",
    "version": 3
   },
   "file_extension": ".py",
   "mimetype": "text/x-python",
   "name": "python",
   "nbconvert_exporter": "python",
   "pygments_lexer": "ipython3",
   "version": "3.13.2"
  }
 },
 "nbformat": 4,
 "nbformat_minor": 2
}
